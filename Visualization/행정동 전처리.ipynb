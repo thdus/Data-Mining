{
 "cells": [
  {
   "cell_type": "code",
   "execution_count": 12,
   "id": "8831e650",
   "metadata": {},
   "outputs": [
    {
     "name": "stdout",
     "output_type": "stream",
     "text": [
      "Requirement already satisfied: chardet in c:\\users\\there\\anaconda3\\lib\\site-packages (4.0.0)\n"
     ]
    }
   ],
   "source": [
    "!pip install chardet"
   ]
  },
  {
   "cell_type": "code",
   "execution_count": 13,
   "id": "6a837a34",
   "metadata": {},
   "outputs": [],
   "source": [
    "import pandas as pd\n",
    "import re\n",
    "import chardet"
   ]
  },
  {
   "cell_type": "code",
   "execution_count": 14,
   "id": "efabecb6",
   "metadata": {},
   "outputs": [
    {
     "data": {
      "text/plain": [
       "'서울행정동_수정.csv'"
      ]
     },
     "execution_count": 14,
     "metadata": {},
     "output_type": "execute_result"
    }
   ],
   "source": [
    "# 파일 경로\n",
    "file_path = '서울행정동.csv'\n",
    "\n",
    "# 파일 인코딩 감지\n",
    "with open(file_path, 'rb') as f:\n",
    "    result = chardet.detect(f.read())\n",
    "\n",
    "encoding = result['encoding']\n",
    "\n",
    "# 감지된 인코딩으로 파일 읽기\n",
    "df = pd.read_csv(file_path, encoding=encoding)\n",
    "\n",
    "# 숫자와 '.'를 제거하는 함수\n",
    "def remove_numbers_and_dots(text):\n",
    "    return re.sub(r'[0-9.]', '', text)\n",
    "\n",
    "# CT_NM 열에 함수 적용\n",
    "df['CT_NM'] = df['CT_NM'].apply(remove_numbers_and_dots)\n",
    "\n",
    "# 수정된 데이터 저장\n",
    "output_file_path = '서울행정동_수정.csv'\n",
    "df.to_csv(output_file_path, index=False, encoding=encoding)\n",
    "\n",
    "output_file_path"
   ]
  },
  {
   "cell_type": "code",
   "execution_count": null,
   "id": "2842e1de",
   "metadata": {},
   "outputs": [],
   "source": []
  }
 ],
 "metadata": {
  "kernelspec": {
   "display_name": "Python 3 (ipykernel)",
   "language": "python",
   "name": "python3"
  },
  "language_info": {
   "codemirror_mode": {
    "name": "ipython",
    "version": 3
   },
   "file_extension": ".py",
   "mimetype": "text/x-python",
   "name": "python",
   "nbconvert_exporter": "python",
   "pygments_lexer": "ipython3",
   "version": "3.11.5"
  }
 },
 "nbformat": 4,
 "nbformat_minor": 5
}
