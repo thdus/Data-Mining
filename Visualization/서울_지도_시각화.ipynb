{
 "cells": [
  {
   "cell_type": "code",
   "execution_count": null,
   "id": "71538879",
   "metadata": {},
   "outputs": [],
   "source": [
    "!pip install folium"
   ]
  },
  {
   "cell_type": "code",
   "execution_count": null,
   "id": "92cd9eac",
   "metadata": {
    "scrolled": false
   },
   "outputs": [],
   "source": [
    "# 설치 안해도 될 듯 만약 밑에 실행 안되면 설치 ㄱㄱ\n",
    "!pip install wheel\n",
    "!pip install pyproj\n",
    "!pip install shapely\n",
    "!pip install GDAL\n",
    "!pip install Fiona\n",
    "!pip install geopandas"
   ]
  },
  {
   "cell_type": "code",
   "execution_count": null,
   "id": "b9c5f88a",
   "metadata": {},
   "outputs": [],
   "source": [
    "import folium"
   ]
  },
  {
   "cell_type": "code",
   "execution_count": null,
   "id": "985b91f7",
   "metadata": {},
   "outputs": [],
   "source": [
    "# 기준좌표: 서울역\n",
    "seoul = folium.Map(location=[37.5536067,126.9674308], zoom_start=11)\n",
    "seoul"
   ]
  },
  {
   "cell_type": "code",
   "execution_count": null,
   "id": "d584ee93",
   "metadata": {},
   "outputs": [],
   "source": [
    "import json"
   ]
  },
  {
   "cell_type": "code",
   "execution_count": null,
   "id": "5c4ee8cd",
   "metadata": {},
   "outputs": [],
   "source": [
    "geo_data = json.load(open('HangJeongDong_ver20221001.geojson',encoding='utf-8'))"
   ]
  },
  {
   "cell_type": "code",
   "execution_count": null,
   "id": "c05ef0ec",
   "metadata": {},
   "outputs": [],
   "source": [
    "geo_data"
   ]
  },
  {
   "cell_type": "code",
   "execution_count": null,
   "id": "4beb1422",
   "metadata": {},
   "outputs": [],
   "source": [
    "import pandas as pd"
   ]
  },
  {
   "cell_type": "code",
   "execution_count": null,
   "id": "c62a236b",
   "metadata": {},
   "outputs": [],
   "source": [
    "file = 'new_2nd_data.csv'\n",
    "data = pd.read_csv(file)"
   ]
  },
  {
   "cell_type": "code",
   "execution_count": null,
   "id": "1c325a5a",
   "metadata": {},
   "outputs": [],
   "source": [
    "data_use = data.loc[:,['CT_NM','alone_ratio','old_ratio','welfare_ratio','disabled_ratio','code','cluster']]\n",
    "data_use"
   ]
  },
  {
   "cell_type": "code",
   "execution_count": null,
   "id": "6dd8845c",
   "metadata": {},
   "outputs": [],
   "source": [
    "folium.GeoJson(geo_data,name='CT_NM')"
   ]
  },
  {
   "cell_type": "code",
   "execution_count": null,
   "id": "34cc9a1c",
   "metadata": {},
   "outputs": [],
   "source": [
    "#독거노인인구비율\n",
    "seoul = folium.Map(location=[37.5536067,126.9674308], zoom_start=11)\n",
    "choropleth = folium.Choropleth(\n",
    "geo_data=geo_data,\n",
    "name=data_use,\n",
    "data=data_use,\n",
    "columns=('code','alone_ratio'),\n",
    "key_on='feature.properties.adm_cd',\n",
    "fill_color='YlOrRd',\n",
    "fill_opacity=0.7,\n",
    "line_opacity=0.5,\n",
    "legend_name='독거노인인구비율',\n",
    "nan_fill_color='white',\n",
    "nan_fill_opacity=1).add_to(seoul)\n",
    "seoul"
   ]
  },
  {
   "cell_type": "code",
   "execution_count": null,
   "id": "6aa2ea07",
   "metadata": {},
   "outputs": [],
   "source": [
    "#노인인구비율\n",
    "seoul = folium.Map(location=[37.5536067,126.9674308], zoom_start=11)\n",
    "choropleth = folium.Choropleth(\n",
    "geo_data=geo_data,\n",
    "name=data_use,\n",
    "data=data_use,\n",
    "columns=('code','old_ratio'),\n",
    "key_on='feature.properties.adm_cd',\n",
    "fill_color='YlOrRd',\n",
    "fill_opacity=0.7,\n",
    "line_opacity=0.5,\n",
    "legend_name='노인인구비율',\n",
    "nan_fill_color='white',\n",
    "nan_fill_opacity=1).add_to(seoul)\n",
    "seoul"
   ]
  },
  {
   "cell_type": "code",
   "execution_count": null,
   "id": "79223ca3",
   "metadata": {},
   "outputs": [],
   "source": [
    "#기초수급자비율\n",
    "seoul = folium.Map(location=[37.5536067,126.9674308], zoom_start=11)\n",
    "choropleth = folium.Choropleth(\n",
    "geo_data=geo_data,\n",
    "name=data_use,\n",
    "data=data_use,\n",
    "columns=('code','welfare_ratio'),\n",
    "key_on='feature.properties.adm_cd',\n",
    "fill_color='YlOrRd',\n",
    "fill_opacity=0.7,\n",
    "line_opacity=0.5,\n",
    "legend_name='기초수급자비율',\n",
    "nan_fill_color='white',\n",
    "nan_fill_opacity=1).add_to(seoul)\n",
    "seoul"
   ]
  },
  {
   "cell_type": "code",
   "execution_count": null,
   "id": "f3d83d2c",
   "metadata": {},
   "outputs": [],
   "source": [
    "#장애인비율\n",
    "seoul = folium.Map(location=[37.5536067,126.9674308], zoom_start=11)\n",
    "choropleth = folium.Choropleth(\n",
    "geo_data=geo_data,\n",
    "name=data_use,\n",
    "data=data_use,\n",
    "columns=('code','disabled_ratio'),\n",
    "key_on='feature.properties.adm_cd',\n",
    "fill_color='YlOrRd',\n",
    "fill_opacity=0.7,\n",
    "line_opacity=0.5,\n",
    "legend_name='장애인비율',\n",
    "nan_fill_color='white',\n",
    "nan_fill_opacity=1).add_to(seoul)\n",
    "seoul"
   ]
  },
  {
   "cell_type": "code",
   "execution_count": null,
   "id": "8d8b79c9",
   "metadata": {},
   "outputs": [],
   "source": [
    "#cluster 결과\n",
    "seoul = folium.Map(location=[37.5536067,126.9674308], zoom_start=11)\n",
    "choropleth = folium.Choropleth(\n",
    "geo_data=geo_data,\n",
    "name=data_use,\n",
    "data=data_use,\n",
    "columns=('code','cluster'),\n",
    "key_on='feature.properties.adm_cd',\n",
    "fill_color='YlOrRd',\n",
    "fill_opacity=0.7,\n",
    "line_opacity=0.5,\n",
    "legend_name='cluster_결과',\n",
    "nan_fill_color='white',\n",
    "nan_fill_opacity=1).add_to(seoul)\n",
    "seoul"
   ]
  },
  {
   "cell_type": "code",
   "execution_count": null,
   "id": "548f98d1",
   "metadata": {},
   "outputs": [],
   "source": []
  }
 ],
 "metadata": {
  "kernelspec": {
   "display_name": "Python 3 (ipykernel)",
   "language": "python",
   "name": "python3"
  },
  "language_info": {
   "codemirror_mode": {
    "name": "ipython",
    "version": 3
   },
   "file_extension": ".py",
   "mimetype": "text/x-python",
   "name": "python",
   "nbconvert_exporter": "python",
   "pygments_lexer": "ipython3",
   "version": "3.11.5"
  }
 },
 "nbformat": 4,
 "nbformat_minor": 5
}
